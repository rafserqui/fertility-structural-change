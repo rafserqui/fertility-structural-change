{
 "cells": [
  {
   "cell_type": "code",
   "execution_count": 1,
   "metadata": {},
   "outputs": [],
   "source": [
    "import matplotlib.pyplot as plt\n",
    "import seaborn as sns \n",
    "import pandas as pd\n",
    "import numpy as np\n",
    "import datetime\n",
    "import wbdata"
   ]
  },
  {
   "cell_type": "code",
   "execution_count": 2,
   "metadata": {},
   "outputs": [],
   "source": [
    "countries = [\"AFG\",\"ALB\",\"DZA\",\"ASM\",\"AND\",\"AGO\",\"ATG\",\"ARG\",\"ARM\",\"ABW\",\"AUS\",\"AUT\",\"AZE\",\"BHS\",\"BHR\",\"BGD\",\"BRB\",\"BLR\",\"BEL\",\"BLZ\",\"BEN\",\"BMU\",\"BTN\",\"BOL\",\"BIH\",\"BWA\",\"BRA\",\"VGB\",\"BRN\",\"BGR\",\"BFA\",\"BDI\",\"CPV\",\"KHM\",\"CMR\",\"CAN\",\"CYM\",\"CAF\",\"TCD\",\"CHI\",\"CHL\",\"CHN\",\"COL\",\"COM\",\"COD\",\"COG\",\"CRI\",\"CIV\",\"HRV\",\"CUB\",\"CUW\",\"CYP\",\"CZE\",\"DNK\",\"DJI\",\"DMA\",\"DOM\",\"ECU\",\"EGY\",\"SLV\",\"GNQ\",\"ERI\",\"EST\",\"SWZ\",\"ETH\",\"FRO\",\"FJI\",\"FIN\",\"FRA\",\"PYF\",\"GAB\",\"GMB\",\"GEO\",\"DEU\",\"GHA\",\"GIB\",\"GRC\",\"GRL\",\"GRD\",\"GUM\",\"GTM\",\"GIN\",\"GNB\",\"GUY\",\"HTI\",\"HND\",\"HKG\",\"HUN\",\"ISL\",\"IND\",\"IDN\",\"IRN\",\"IRQ\",\"IRL\",\"IMN\",\"ISR\",\"ITA\",\"JAM\",\"JPN\",\"JOR\",\"KAZ\",\"KEN\",\"KIR\",\"PRK\",\"KOR\",\"XKX\",\"KWT\",\"KGZ\",\"LAO\",\"LVA\",\"LBN\",\"LSO\",\"LBR\",\"LBY\",\"LIE\",\"LTU\",\"LUX\",\"MAC\",\"MDG\",\"MWI\",\"MYS\",\"MDV\",\"MLI\",\"MLT\",\"MHL\",\"MRT\",\"MUS\",\"MEX\",\"FSM\",\"MDA\",\"MCO\",\"MNG\",\"MNE\",\"MAR\",\"MOZ\",\"MMR\",\"NAM\",\"NRU\",\"NPL\",\"NLD\",\"NCL\",\"NZL\",\"NIC\",\"NER\",\"NGA\",\"MKD\",\"MNP\",\"NOR\",\"OMN\",\"PAK\",\"PLW\",\"PAN\",\"PNG\",\"PRY\",\"PER\",\"PHL\",\"POL\",\"PRT\",\"PRI\",\"QAT\",\"ROU\",\"RUS\",\"RWA\",\"WSM\",\"SMR\",\"STP\",\"SAU\",\"SEN\",\"SRB\",\"SYC\",\"SLE\",\"SGP\",\"SXM\",\"SVK\",\"SVN\",\"SLB\",\"SOM\",\"ZAF\",\"SSD\",\"ESP\",\"LKA\",\"KNA\",\"LCA\",\"MAF\",\"VCT\",\"SDN\",\"SUR\",\"SWE\",\"CHE\",\"SYR\",\"TWN\",\"TJK\",\"TZA\",\"THA\",\"TLS\",\"TGO\",\"TON\",\"TTO\",\"TUN\",\"TUR\",\"TKM\",\"TCA\",\"TUV\",\"UGA\",\"UKR\",\"ARE\",\"GBR\",\"USA\",\"URY\",\"UZB\",\"VUT\",\"VEN\",\"VNM\",\"VIR\",\"PSE\",\"YEM\",\"ZMB\",\"ZWE\"]"
   ]
  },
  {
   "cell_type": "code",
   "execution_count": 3,
   "metadata": {},
   "outputs": [],
   "source": [
    "indicators = {\"SP.DYN.TFRT.IN\": \"fert\", \"NY.GDP.PCAP.KD\": \"gdppc\", \"SP.POP.TOTL\": \"pop\", \"SL.AGR.EMPL.ZS\": \"agr_sh\", \"SL.SRV.EMPL.ZS\": \"ser_sh\"}\n",
    "df = wbdata.get_dataframe(indicators, country=countries)"
   ]
  },
  {
   "cell_type": "code",
   "execution_count": 4,
   "metadata": {},
   "outputs": [
    {
     "output_type": "execute_result",
     "data": {
      "text/plain": [
       "id    value\n",
       "----  -------------------\n",
       "HIC   High income\n",
       "INX   Not classified\n",
       "LIC   Low income\n",
       "LMC   Lower middle income\n",
       "LMY   Low & middle income\n",
       "MIC   Middle income\n",
       "UMC   Upper middle income"
      ]
     },
     "metadata": {},
     "execution_count": 4
    }
   ],
   "source": [
    "wbdata.get_incomelevel()"
   ]
  },
  {
   "cell_type": "code",
   "execution_count": 5,
   "metadata": {},
   "outputs": [],
   "source": [
    "# Extract data for low, medium, and high income countries\n",
    "hicc = [i['id'] for i in wbdata.get_country(incomelevel='HIC')]\n",
    "licc = [i['id'] for i in wbdata.get_country(incomelevel='LIC')]\n",
    "micc = [i['id'] for i in wbdata.get_country(incomelevel='MIC')]\n",
    "\n",
    "# Extract dataframes\n",
    "dfhic = wbdata.get_dataframe(indicators, country = hicc)\n",
    "dflic = wbdata.get_dataframe(indicators, country = licc)\n",
    "dfmic = wbdata.get_dataframe(indicators, country = micc)"
   ]
  },
  {
   "cell_type": "code",
   "execution_count": 6,
   "metadata": {},
   "outputs": [
    {
     "output_type": "stream",
     "name": "stdout",
     "text": [
      "          date   fert        gdppc        pop  agr_sh  ser_sh  year decade\ncountry                                                                   \nZimbabwe  1964  7.347   984.668540  4322861.0     NaN     NaN  1964  1960s\nZimbabwe  1963  7.311  1030.026148  4178726.0     NaN     NaN  1963  1960s\nZimbabwe  1962  7.267  1002.976733  4039201.0     NaN     NaN  1962  1960s\nZimbabwe  1961  7.215  1022.765185  3905034.0     NaN     NaN  1961  1960s\nZimbabwe  1960  7.158   994.697855  3776681.0     NaN     NaN  1960  1960s\n"
     ]
    },
    {
     "output_type": "execute_result",
     "data": {
      "text/plain": [
       "                   fert       gdppc         pop     agr_sh     ser_sh  year  \\\n",
       "country     date                                                              \n",
       "Afghanistan 2020    NaN         NaN         NaN  42.352001  39.396000  2020   \n",
       "            2019    NaN  573.287551  38041754.0  42.839001  38.999001  2019   \n",
       "            2018  4.473  564.609992  37172386.0  43.383999  38.536999  2018   \n",
       "            2017  4.633  571.440691  36296400.0  43.988998  37.985001  2017   \n",
       "            2016  4.800  571.073775  35383128.0  45.803001  36.868999  2016   \n",
       "...                 ...         ...         ...        ...        ...   ...   \n",
       "Yemen, Rep. 1964  8.067         NaN   5641597.0        NaN        NaN  1964   \n",
       "            1963  8.026         NaN   5556766.0        NaN        NaN  1963   \n",
       "            1962  7.991         NaN   5473671.0        NaN        NaN  1962   \n",
       "            1961  7.962         NaN   5393036.0        NaN        NaN  1961   \n",
       "            1960  7.938         NaN   5315355.0        NaN        NaN  1960   \n",
       "\n",
       "                 decade  \n",
       "country     date         \n",
       "Afghanistan 2020     NA  \n",
       "            2019  2010s  \n",
       "            2018  2010s  \n",
       "            2017  2010s  \n",
       "            2016  2010s  \n",
       "...                 ...  \n",
       "Yemen, Rep. 1964  1960s  \n",
       "            1963  1960s  \n",
       "            1962  1960s  \n",
       "            1961  1960s  \n",
       "            1960  1960s  \n",
       "\n",
       "[1769 rows x 7 columns]"
      ],
      "text/html": "<div>\n<style scoped>\n    .dataframe tbody tr th:only-of-type {\n        vertical-align: middle;\n    }\n\n    .dataframe tbody tr th {\n        vertical-align: top;\n    }\n\n    .dataframe thead th {\n        text-align: right;\n    }\n</style>\n<table border=\"1\" class=\"dataframe\">\n  <thead>\n    <tr style=\"text-align: right;\">\n      <th></th>\n      <th></th>\n      <th>fert</th>\n      <th>gdppc</th>\n      <th>pop</th>\n      <th>agr_sh</th>\n      <th>ser_sh</th>\n      <th>year</th>\n      <th>decade</th>\n    </tr>\n    <tr>\n      <th>country</th>\n      <th>date</th>\n      <th></th>\n      <th></th>\n      <th></th>\n      <th></th>\n      <th></th>\n      <th></th>\n      <th></th>\n    </tr>\n  </thead>\n  <tbody>\n    <tr>\n      <th rowspan=\"5\" valign=\"top\">Afghanistan</th>\n      <th>2020</th>\n      <td>NaN</td>\n      <td>NaN</td>\n      <td>NaN</td>\n      <td>42.352001</td>\n      <td>39.396000</td>\n      <td>2020</td>\n      <td>NA</td>\n    </tr>\n    <tr>\n      <th>2019</th>\n      <td>NaN</td>\n      <td>573.287551</td>\n      <td>38041754.0</td>\n      <td>42.839001</td>\n      <td>38.999001</td>\n      <td>2019</td>\n      <td>2010s</td>\n    </tr>\n    <tr>\n      <th>2018</th>\n      <td>4.473</td>\n      <td>564.609992</td>\n      <td>37172386.0</td>\n      <td>43.383999</td>\n      <td>38.536999</td>\n      <td>2018</td>\n      <td>2010s</td>\n    </tr>\n    <tr>\n      <th>2017</th>\n      <td>4.633</td>\n      <td>571.440691</td>\n      <td>36296400.0</td>\n      <td>43.988998</td>\n      <td>37.985001</td>\n      <td>2017</td>\n      <td>2010s</td>\n    </tr>\n    <tr>\n      <th>2016</th>\n      <td>4.800</td>\n      <td>571.073775</td>\n      <td>35383128.0</td>\n      <td>45.803001</td>\n      <td>36.868999</td>\n      <td>2016</td>\n      <td>2010s</td>\n    </tr>\n    <tr>\n      <th>...</th>\n      <th>...</th>\n      <td>...</td>\n      <td>...</td>\n      <td>...</td>\n      <td>...</td>\n      <td>...</td>\n      <td>...</td>\n      <td>...</td>\n    </tr>\n    <tr>\n      <th rowspan=\"5\" valign=\"top\">Yemen, Rep.</th>\n      <th>1964</th>\n      <td>8.067</td>\n      <td>NaN</td>\n      <td>5641597.0</td>\n      <td>NaN</td>\n      <td>NaN</td>\n      <td>1964</td>\n      <td>1960s</td>\n    </tr>\n    <tr>\n      <th>1963</th>\n      <td>8.026</td>\n      <td>NaN</td>\n      <td>5556766.0</td>\n      <td>NaN</td>\n      <td>NaN</td>\n      <td>1963</td>\n      <td>1960s</td>\n    </tr>\n    <tr>\n      <th>1962</th>\n      <td>7.991</td>\n      <td>NaN</td>\n      <td>5473671.0</td>\n      <td>NaN</td>\n      <td>NaN</td>\n      <td>1962</td>\n      <td>1960s</td>\n    </tr>\n    <tr>\n      <th>1961</th>\n      <td>7.962</td>\n      <td>NaN</td>\n      <td>5393036.0</td>\n      <td>NaN</td>\n      <td>NaN</td>\n      <td>1961</td>\n      <td>1960s</td>\n    </tr>\n    <tr>\n      <th>1960</th>\n      <td>7.938</td>\n      <td>NaN</td>\n      <td>5315355.0</td>\n      <td>NaN</td>\n      <td>NaN</td>\n      <td>1960</td>\n      <td>1960s</td>\n    </tr>\n  </tbody>\n</table>\n<p>1769 rows × 7 columns</p>\n</div>"
     },
     "metadata": {},
     "execution_count": 6
    }
   ],
   "source": [
    "# Manage indices\n",
    "df.reset_index(inplace = True, level = ['date'])\n",
    "df['year'] = pd.to_numeric(df['date'])\n",
    "\n",
    "dfhic.reset_index(inplace = True, level = ['date'])\n",
    "dfhic['year'] = pd.to_numeric(dfhic['date'])\n",
    "\n",
    "dfmic.reset_index(inplace = True, level = ['date'])\n",
    "dfmic['year'] = pd.to_numeric(dfmic['date'])\n",
    "\n",
    "dflic.reset_index(inplace = True, level = ['date'])\n",
    "dflic['year'] = pd.to_numeric(dflic['date'])\n",
    "\n",
    "# Add decade indicator\n",
    "def decade(yr):\n",
    "    if 1960 <= yr <= 1969: dec   = '1960s'\n",
    "    elif 1970 <= yr <= 1979: dec = '1970s'\n",
    "    elif 1980 <= yr <= 1989: dec = '1980s'\n",
    "    elif 1990 <= yr <= 1999: dec = '1990s'\n",
    "    elif 2000 <= yr <= 2009: dec = '2000s'\n",
    "    elif 2010 <= yr <= 2019: dec = '2010s'\n",
    "    else: \n",
    "        dec = 'NA'\n",
    "    return(dec)\n",
    "\n",
    "\n",
    "df['decade'] = df['year'].apply(decade)\n",
    "df.set_index('date', append = True)\n",
    "print(df.tail())\n",
    "\n",
    "dfhic['decade'] = dfhic['year'].apply(decade)\n",
    "dfhic.set_index('date', append = True)\n",
    "\n",
    "dfmic['decade'] = dfmic['year'].apply(decade)\n",
    "dfmic.set_index('date', append = True)\n",
    "\n",
    "dflic['decade'] = dflic['year'].apply(decade)\n",
    "dflic.set_index('date', append = True)"
   ]
  },
  {
   "cell_type": "code",
   "execution_count": 7,
   "metadata": {},
   "outputs": [],
   "source": [
    "# Drop missing values from all datasets\n",
    "df = df.dropna()\n",
    "dfhic = dfhic.dropna()\n",
    "dfmic = dfmic.dropna()\n",
    "dflic = dflic.dropna()"
   ]
  },
  {
   "cell_type": "code",
   "execution_count": 7,
   "metadata": {},
   "outputs": [
    {
     "output_type": "stream",
     "name": "stdout",
     "text": [
      "          date   fert        gdppc         pop     agr_sh     ser_sh  year  \\\ncountry                                                                      \nZimbabwe  2003  3.725  1102.230755  11982224.0  63.042999  26.705000  2003   \nZimbabwe  2002  3.718  1331.013034  11954290.0  61.898998  27.214001  2002   \nZimbabwe  2001  3.725  1464.672049  11923914.0  60.949001  27.591999  2001   \nZimbabwe  2000  3.748  1449.042767  11881477.0  60.613998  27.837999  2000   \nZimbabwe  1999  3.786  1502.199532  11822719.0  60.029999  28.139999  1999   \n\n         decade  \ncountry          \nZimbabwe  2000s  \nZimbabwe  2000s  \nZimbabwe  2000s  \nZimbabwe  2000s  \nZimbabwe  1990s  \n"
     ]
    }
   ],
   "source": [
    "print(df[df['year'] >= 1999].tail())"
   ]
  },
  {
   "cell_type": "code",
   "execution_count": 8,
   "metadata": {},
   "outputs": [],
   "source": [
    "df.to_csv('../../data/wb-data.csv')\n",
    "dfhic.to_csv('../../data/wb-data-hic.csv')\n",
    "dfmic.to_csv('../../data/wb-data-mic.csv')\n",
    "dflic.to_csv('../../data/wb-data-lic.csv')"
   ]
  }
 ],
 "metadata": {
  "kernelspec": {
   "display_name": "Python 3",
   "language": "python",
   "name": "python3"
  },
  "language_info": {
   "codemirror_mode": {
    "name": "ipython",
    "version": 3
   },
   "file_extension": ".py",
   "mimetype": "text/x-python",
   "name": "python",
   "nbconvert_exporter": "python",
   "pygments_lexer": "ipython3",
   "version": "3.8.3-final"
  }
 },
 "nbformat": 4,
 "nbformat_minor": 4
}